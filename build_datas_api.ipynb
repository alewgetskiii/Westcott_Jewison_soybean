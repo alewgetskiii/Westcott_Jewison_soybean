{
 "cells": [
  {
   "cell_type": "markdown",
   "id": "9ab3d54c",
   "metadata": {},
   "source": [
    "# Build `datas.csv` from APIs — USDA (NASS) + NOAA (CDO)\n",
    "\n",
    "This notebook fetches data from **live APIs** (no local CSV reads):\n",
    "- **USDA NASS QuickStats**: soybean **yield** and **harvested area** (state level).\n",
    "- **NOAA CDO (NCLIMDIV)**: monthly **temperature (TAVG)** and **precipitation (TPCP)** (state level).\n",
    "- **Crop conditions**: via your existing `src.soy_conditions` module (USDA QuickStats).\n",
    "\n",
    "It then:\n",
    "1. Builds **WAOB-like weather features** (`temp_JA`, `prec_JA`, `jun_shortfall`, etc.).\n",
    "2. Adds **annual crop-condition features** (`gex_JA_min`, etc.).\n",
    "3. Appends a **US** weighted line per year (weights = `harvest_ha`).\n",
    "4. Writes a single file: `data/processed/datas.csv` (states + US).\n",
    "\n",
    "> Set environment variables first: `USDA_API_KEY`, `NOAA_TOKEN`.\n"
   ]
  },
  {
   "cell_type": "code",
   "execution_count": null,
   "id": "604a7479",
   "metadata": {},
   "outputs": [],
   "source": [
    "import os, sys, numpy as np, pandas as pd\n",
    "\n",
    "# Make repo root importable\n",
    "sys.path.append(os.path.abspath(\".\"))\n",
    "\n",
    "# Local modules\n",
    "from src import SEVEN_STATES, get_soy_condition_features\n",
    "# Use the generated API module (move it to src/fetchweather.py in your repo):\n",
    "from fetchweather import fetch_yield_and_area, fetch_noaa_monthly, build_waob_from_monthlies, add_us_weighted_row\n",
    "\n",
    "YEAR_FROM = 1987\n",
    "YEAR_TO   = 2024\n",
    "STATES    = SEVEN_STATES  # (\"IA\",\"IL\",\"IN\",\"OH\",\"MO\",\"MN\",\"NE\")\n",
    "OUT_CSV   = \"data/processed/datas.csv\"\n",
    "\n",
    "assert os.getenv(\"USDA_API_KEY\"), \"Missing USDA_API_KEY env var\"\n",
    "assert os.getenv(\"NOAA_TOKEN\"), \"Missing NOAA_TOKEN env var\"\n"
   ]
  },
  {
   "cell_type": "markdown",
   "id": "b876a1a7",
   "metadata": {},
   "source": [
    "## 1) Fetch USDA yield & harvested area"
   ]
  },
  {
   "cell_type": "code",
   "execution_count": null,
   "id": "1e0e6ca1",
   "metadata": {},
   "outputs": [],
   "source": [
    "ya = fetch_yield_and_area(YEAR_FROM, YEAR_TO, STATES)\n",
    "print(\"Yield+Area shape:\", ya.shape)\n",
    "ya.head(3)"
   ]
  },
  {
   "cell_type": "markdown",
   "id": "d65d88d2",
   "metadata": {},
   "source": [
    "## 2) Fetch NOAA monthly TAVG/TPCP and build WAOB features"
   ]
  },
  {
   "cell_type": "code",
   "execution_count": null,
   "id": "7e247973",
   "metadata": {},
   "outputs": [],
   "source": [
    "monthly = fetch_noaa_monthly(YEAR_FROM, YEAR_TO, STATES)\n",
    "print(\"Monthly shape:\", monthly.shape, \"sample months:\", sorted(monthly['month'].unique())[:5])\n",
    "waob = build_waob_from_monthlies(monthly, ya, base_trend_year=1987)\n",
    "print(\"WAOB-like features:\", waob.shape)\n",
    "waob.head(3)"
   ]
  },
  {
   "cell_type": "markdown",
   "id": "d037e0c2",
   "metadata": {},
   "source": [
    "## 3) Build annual crop-condition features (USDA QuickStats)"
   ]
  },
  {
   "cell_type": "code",
   "execution_count": null,
   "id": "ddd48ba5",
   "metadata": {},
   "outputs": [],
   "source": [
    "# Reuse your working module that aggregates Good/Excellent etc.\n",
    "_, cond_annual = get_soy_condition_features(YEAR_FROM, YEAR_TO, STATES)\n",
    "\n",
    "# Normalize keys and deduplicate\n",
    "def normalize_keys(df):\n",
    "    out = df.copy()\n",
    "    out[\"state\"] = out[\"state\"].astype(str).str.strip().str.upper()\n",
    "    out[\"year\"] = pd.to_numeric(out[\"year\"], errors=\"coerce\").astype(\"Int64\")\n",
    "    return out\n",
    "\n",
    "cond_annual = normalize_keys(cond_annual).drop_duplicates(subset=[\"state\",\"year\"]).copy()\n",
    "print(\"Crop condition annual shape:\", cond_annual.shape)\n",
    "cond_annual.head(3)"
   ]
  },
  {
   "cell_type": "markdown",
   "id": "1788568a",
   "metadata": {},
   "source": [
    "## 4) Merge weather+yield with crop conditions"
   ]
  },
  {
   "cell_type": "code",
   "execution_count": null,
   "id": "e6f4b7bc",
   "metadata": {},
   "outputs": [],
   "source": [
    "df = waob.merge(cond_annual, on=[\"state\",\"year\"], how=\"left\", indicator=True)\n",
    "print(df[\"_merge\"].value_counts())\n",
    "df = df.drop(columns=\"_merge\")\n",
    "\n",
    "# Safety aggregation if any duplicates slipped in\n",
    "num_cols = df.select_dtypes(include=[np.number]).columns.tolist()\n",
    "df = (df.groupby([\"state\",\"year\"], as_index=False)\n",
    "        .agg({**{c: \"mean\" for c in num_cols},\n",
    "              **{c: \"first\" for c in df.columns if c not in num_cols and c not in [\"state\",\"year\"]}}))\n",
    "print(\"Merged df shape:\", df.shape)\n",
    "df.head(3)"
   ]
  },
  {
   "cell_type": "markdown",
   "id": "22ec42bd",
   "metadata": {},
   "source": [
    "## 5) Append US weighted line and write `datas.csv`"
   ]
  },
  {
   "cell_type": "code",
   "execution_count": null,
   "id": "3b8f051a",
   "metadata": {},
   "outputs": [],
   "source": [
    "df_out = add_us_weighted_row(df)\n",
    "print(\"Final rows (states + US):\", df_out.shape)\n",
    "\n",
    "os.makedirs(\"data/processed\", exist_ok=True)\n",
    "df_out.to_csv(OUT_CSV, index=False)\n",
    "print(\"✅ Written:\", OUT_CSV)\n",
    "df_out.tail(3)"
   ]
  }
 ],
 "metadata": {},
 "nbformat": 4,
 "nbformat_minor": 5
}