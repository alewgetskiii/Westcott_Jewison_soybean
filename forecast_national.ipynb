{
 "cells": [
  {
   "cell_type": "code",
   "execution_count": 32,
   "id": "7dc5de8b",
   "metadata": {},
   "outputs": [],
   "source": [
    "import pandas as pd\n",
    "import numpy as np\n",
    "import statsmodels.api as sm"
   ]
  },
  {
   "cell_type": "code",
   "execution_count": null,
   "id": "e17c1fd8",
   "metadata": {},
   "outputs": [
    {
     "name": "stdout",
     "output_type": "stream",
     "text": [
      "\n",
      "=== Summary model (year ≤ 2012) ===\n",
      "                            OLS Regression Results                            \n",
      "==============================================================================\n",
      "Dep. Variable:          yield_bu_acre   R-squared:                       0.843\n",
      "Model:                            OLS   Adj. R-squared:                  0.802\n",
      "Method:                 Least Squares   F-statistic:                     20.46\n",
      "Date:                Tue, 07 Oct 2025   Prob (F-statistic):           4.73e-07\n",
      "Time:                        23:23:20   Log-Likelihood:                -46.490\n",
      "No. Observations:                  25   AIC:                             105.0\n",
      "Df Residuals:                      19   BIC:                             112.3\n",
      "Df Model:                           5                                         \n",
      "Covariance Type:            nonrobust                                         \n",
      "=================================================================================\n",
      "                    coef    std err          t      P>|t|      [0.025      0.975]\n",
      "---------------------------------------------------------------------------------\n",
      "const            47.1375     18.359      2.568      0.019       8.712      85.562\n",
      "trend             0.4096      0.054      7.592      0.000       0.297       0.522\n",
      "jun_shortfall    -1.5091      0.616     -2.449      0.024      -2.799      -0.219\n",
      "temp_JA          -0.3516      0.202     -1.745      0.097      -0.773       0.070\n",
      "prec_JA           5.6732      3.675      1.544      0.139      -2.019      13.365\n",
      "prec_JA_sq       -0.6564      0.418     -1.569      0.133      -1.532       0.219\n",
      "==============================================================================\n",
      "Omnibus:                        0.639   Durbin-Watson:                   1.417\n",
      "Prob(Omnibus):                  0.727   Jarque-Bera (JB):                0.718\n",
      "Skew:                          -0.263   Prob(JB):                        0.698\n",
      "Kurtosis:                       2.358   Cond. No.                     3.95e+03\n",
      "==============================================================================\n",
      "\n",
      "Notes:\n",
      "[1] Standard Errors assume that the covariance matrix of the errors is correctly specified.\n",
      "[2] The condition number is large, 3.95e+03. This might indicate that there are\n",
      "strong multicollinearity or other numerical problems.\n"
     ]
    }
   ],
   "source": [
    "csv_path = \"data/processed/waob_features_national.csv\" # adapte le chemin si besoin\n",
    "df = pd.read_csv(csv_path)\n",
    "\n",
    "df = df[(df[\"year\"] >= 1988) & (df[\"year\"] <= 2012)]\n",
    "\n",
    "feature_cols = [\"trend\", \"jun_shortfall\", \"temp_JA\", \"prec_JA\", \"prec_JA_sq\"]\n",
    "target_col = \"yield_bu_acre\"\n",
    "\n",
    "keep = [target_col] + feature_cols\n",
    "df_model = df[keep].dropna().copy()\n",
    "\n",
    "y = df_model[target_col]\n",
    "X = df_model[feature_cols]\n",
    "\n",
    "X = sm.add_constant(X, has_constant=\"add\")  # force la constante\n",
    "model = sm.OLS(y, X).fit()\n",
    "\n",
    "print(\"\\n=== Summary model (year ≤ 2012) ===\")\n",
    "print(model.summary())\n",
    "\n",
    "metrics = {\n",
    "    \"n_obs\": int(model.nobs),\n",
    "    \"r2\": model.rsquared,\n",
    "    \"r2_adj\": model.rsquared_adj,\n",
    "    \"rmse\": np.sqrt(model.mse_resid),\n",
    "}\n",
    "#pd.Series(metrics).to_csv(\"waob_ols_metrics_upto_2013.csv\")"
   ]
  },
  {
   "cell_type": "code",
   "execution_count": 40,
   "id": "a098c6ce",
   "metadata": {},
   "outputs": [
    {
     "name": "stdout",
     "output_type": "stream",
     "text": [
      "\n",
      "=== Summary model (year ≤ 2019) ===\n",
      "                            OLS Regression Results                            \n",
      "==============================================================================\n",
      "Dep. Variable:          yield_bu_acre   R-squared:                       0.910\n",
      "Model:                            OLS   Adj. R-squared:                  0.888\n",
      "Method:                 Least Squares   F-statistic:                     42.09\n",
      "Date:                Tue, 07 Oct 2025   Prob (F-statistic):           7.04e-12\n",
      "Time:                        23:24:58   Log-Likelihood:                -62.439\n",
      "No. Observations:                  32   AIC:                             138.9\n",
      "Df Residuals:                      25   BIC:                             149.1\n",
      "Df Model:                           6                                         \n",
      "Covariance Type:            nonrobust                                         \n",
      "=================================================================================\n",
      "                    coef    std err          t      P>|t|      [0.025      0.975]\n",
      "---------------------------------------------------------------------------------\n",
      "const            38.2864     17.239      2.221      0.036       2.781      73.791\n",
      "trend             0.5078      0.039     13.045      0.000       0.428       0.588\n",
      "jun_shortfall    -1.3076      0.635     -2.060      0.050      -2.615      -0.000\n",
      "temp_JA          -0.2801      0.197     -1.422      0.167      -0.686       0.125\n",
      "prec_JA           6.3144      3.311      1.907      0.068      -0.505      13.134\n",
      "prec_JA_sq       -0.6395      0.383     -1.670      0.107      -1.428       0.149\n",
      "dummy_2003       -3.7519      2.012     -1.865      0.074      -7.896       0.392\n",
      "==============================================================================\n",
      "Omnibus:                        1.442   Durbin-Watson:                   1.619\n",
      "Prob(Omnibus):                  0.486   Jarque-Bera (JB):                1.362\n",
      "Skew:                           0.444   Prob(JB):                        0.506\n",
      "Kurtosis:                       2.518   Cond. No.                     3.90e+03\n",
      "==============================================================================\n",
      "\n",
      "Notes:\n",
      "[1] Standard Errors assume that the covariance matrix of the errors is correctly specified.\n",
      "[2] The condition number is large, 3.9e+03. This might indicate that there are\n",
      "strong multicollinearity or other numerical problems.\n"
     ]
    }
   ],
   "source": [
    "csv_path = \"data/processed/waob_features_national.csv\" # adapte le chemin si besoin\n",
    "df = pd.read_csv(csv_path)\n",
    "\n",
    "df = df[(df[\"year\"] >= 1988) & (df[\"year\"] <= 2019)]\n",
    "\n",
    "feature_cols = [\"trend\", \"jun_shortfall\", \"temp_JA\", \"prec_JA\", \"prec_JA_sq\", \"dummy_2003\"]\n",
    "target_col = \"yield_bu_acre\"\n",
    "\n",
    "keep = [target_col] + feature_cols\n",
    "df_model = df[keep].dropna().copy()\n",
    "\n",
    "y = df_model[target_col]\n",
    "X = df_model[feature_cols]\n",
    "\n",
    "X = sm.add_constant(X, has_constant=\"add\")  # force la constante\n",
    "model = sm.OLS(y, X).fit()\n",
    "\n",
    "print(\"\\n=== Summary model (year ≤ 2019) ===\")\n",
    "print(model.summary())\n",
    "\n",
    "metrics = {\n",
    "    \"n_obs\": int(model.nobs),\n",
    "    \"r2\": model.rsquared,\n",
    "    \"r2_adj\": model.rsquared_adj,\n",
    "    \"rmse\": np.sqrt(model.mse_resid),\n",
    "}\n",
    "#pd.Series(metrics).to_csv(\"waob_ols_metrics_upto_2013.csv\")"
   ]
  },
  {
   "cell_type": "code",
   "execution_count": 42,
   "id": "66d46e41",
   "metadata": {},
   "outputs": [
    {
     "name": "stdout",
     "output_type": "stream",
     "text": [
      "\n",
      "fitted vs actual :\n",
      " year  yield_bu_acre    fitted\n",
      " 2010          44.10 44.330071\n",
      " 2011          41.60 43.137475\n",
      " 2012          37.70 38.628315\n",
      " 2013          42.70 43.406526\n",
      " 2014          46.82 47.034141\n",
      " 2015          47.50 47.891425\n",
      " 2016          51.06 47.679687\n",
      " 2017          49.52 47.849930\n",
      " 2018          52.04 48.741497\n",
      " 2019          47.52 49.015150\n"
     ]
    }
   ],
   "source": [
    "df_out = df.loc[df_model.index, [\"year\", target_col]].copy()\n",
    "df_out[\"fitted\"] = model.fittedvalues\n",
    "df_out.sort_values(\"year\", inplace=True)\n",
    "#df_out.to_csv(\"waob_fitted_vs_actual_upto_2013.csv\", index=False)\n",
    "\n",
    "print(\"\\nfitted vs actual :\")\n",
    "print(df_out.tail(10).to_string(index=False))"
   ]
  },
  {
   "cell_type": "code",
   "execution_count": null,
   "id": "40aeb81e",
   "metadata": {},
   "outputs": [
    {
     "name": "stdout",
     "output_type": "stream",
     "text": [
      "\n",
      "Forecast Y=2020 with find coefs (2020 weather) : 48.61 bu/ac\n"
     ]
    },
    {
     "name": "stderr",
     "output_type": "stream",
     "text": [
      "/var/folders/17/1l32x0xd6fdgz42c_pz2rhmm0000gn/T/ipykernel_17025/3124836418.py:12: FutureWarning: Calling float on a single element Series is deprecated and will raise a TypeError in the future. Use float(ser.iloc[0]) instead\n",
      "  yhat20_ols = float(model.predict(X20))\n"
     ]
    }
   ],
   "source": [
    "\n",
    "YEAR_TO_PRED = 2020\n",
    "Xcols = [\"trend\", \"jun_shortfall\", \"temp_JA\", \"prec_JA\", \"prec_JA_sq\", \"dummy_2003\"]\n",
    "\n",
    "csv_path = \"data/processed/waob_features_national.csv\" \n",
    "df = pd.read_csv(csv_path)\n",
    "\n",
    "row20 = df[df[\"year\"] == YEAR_TO_PRED]\n",
    "if row20.empty:\n",
    "    raise ValueError(f\"Aucune ligne {YEAR_TO_PRED} dans {csv_path}.\")\n",
    "X20 = sm.add_constant(row20[Xcols], has_constant=\"add\")\n",
    "yhat20_ols = float(model.predict(X20))\n",
    "print(f\"\\nForecast Y={YEAR_TO_PRED} with find coefs (2020 weather) : {yhat20_ols:.2f} bu/ac\")\n",
    "\n",
    "\n",
    "\n"
   ]
  },
  {
   "cell_type": "code",
   "execution_count": null,
   "id": "713ca3a5",
   "metadata": {},
   "outputs": [],
   "source": [
    "coef_paper = {\n",
    "    \"const\": 59.173,\n",
    "    \"trend\": 0.523,\n",
    "    \"dummy_2003\": -5.884,\n",
    "    \"jun_shortfall\": -0.867,\n",
    "    \"temp_JA\": -0.503,\n",
    "    \"prec_JA\": 4.142,\n",
    "    \"prec_JA_sq\": -0.407,\n",
    "}\n",
    "\n",
    "sample = df[(df[\"year\"] >= 1988) & (df[\"year\"] <= 2019)]\n",
    "mu_temp = float(sample[\"temp_JA\"].mean())\n",
    "mu_prec = float(sample[\"prec_JA\"].mean())\n",
    "mu_prec_sq = mu_prec ** 2\n",
    "trend_2020 = YEAR_TO_PRED - 1987 \n",
    "\n",
    "yhat20_paper_means = (\n",
    "    coef_paper[\"const\"]\n",
    "    + coef_paper[\"trend\"] * trend_2020\n",
    "    + coef_paper[\"jun_shortfall\"] * 0.0\n",
    "    + coef_paper[\"temp_JA\"] * mu_temp\n",
    "    + coef_paper[\"prec_JA\"] * mu_prec\n",
    "    + coef_paper[\"prec_JA_sq\"] * mu_prec_sq\n",
    "    # dummy_2003 = 0\n",
    ")\n",
    "print(\n",
    "    f\"\\n=== Variables utilisées pour la prédiction 2020 ===\\n\"\n",
    "    f\"Intercept = 1\\n\"\n",
    "    f\"trend = {trend_2020}\\n\"\n",
    "    f\"jun_shortfall = 0.0\\n\"\n",
    "    f\"temp_JA = {mu_temp:.2f}\\n\"\n",
    "    f\"prec_JA = {mu_prec:.2f}\\n\"\n",
    "    f\"prec_JA_sq = {mu_prec_sq:.2f}\\n\"\n",
    "    f\"dummy_2003 = 0\\n\"\n",
    ")\n",
    "print(f\"Prédiction {YEAR_TO_PRED} COEFFS PAPIER avec MOYENNES (sans ajustement non-linéaire) : {yhat20_paper_means:.1f} bu/ac\")\n",
    "\n",
    "# Optionnel : ajustement non-linéaire WAOB (~ -0.12 bu/ac selon farmdoc pour 2020)\n",
    "yhat20_paper_means_adj = yhat20_paper_means - 0.117\n",
    "print(f\"… avec ajustement non-linéaire WAOB ≈ {yhat20_paper_means_adj:.1f} bu/ac\")\n"
   ]
  }
 ],
 "metadata": {
  "kernelspec": {
   "display_name": "waob-m1",
   "language": "python",
   "name": "python3"
  },
  "language_info": {
   "codemirror_mode": {
    "name": "ipython",
    "version": 3
   },
   "file_extension": ".py",
   "mimetype": "text/x-python",
   "name": "python",
   "nbconvert_exporter": "python",
   "pygments_lexer": "ipython3",
   "version": "3.11.13"
  }
 },
 "nbformat": 4,
 "nbformat_minor": 5
}
