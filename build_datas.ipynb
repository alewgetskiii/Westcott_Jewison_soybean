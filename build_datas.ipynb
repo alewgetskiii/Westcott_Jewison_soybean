{
 "cells": [
  {
   "cell_type": "markdown",
   "id": "26450fce",
   "metadata": {},
   "source": [
    "# Build `datas.csv` — States + US (weather, crop conditions, yield)\n",
    "\n",
    "This notebook:\n",
    "1. Loads **weather + yield** features from `src.fetchweather`.\n",
    "2. Builds **annual crop-condition** features from `src.soy_conditions`.\n",
    "3. Merges both on `(state, year)`.\n",
    "4. Adds a **US** weighted row per year (weights = `harvest_ha`).\n",
    "5. Writes a single file: `data/processed/datas.csv` (states + US).\n"
   ]
  },
  {
   "cell_type": "code",
   "execution_count": null,
   "id": "73d8580e",
   "metadata": {},
   "outputs": [],
   "source": [
    "import os, sys\n",
    "import numpy as np\n",
    "import pandas as pd\n",
    "\n",
    "# Make project root importable\n",
    "sys.path.append(os.path.abspath(\".\"))\n",
    "\n",
    "# Local modules\n",
    "from src import SEVEN_STATES, get_soy_condition_features\n",
    "# After moving the generated python file to src/, import like:\n",
    "# from src.fetchweather import load_weather_features\n",
    "from fetchweather import load_weather_features\n",
    "\n",
    "YEAR_FROM = 1987\n",
    "YEAR_TO   = 2024\n",
    "STATES    = SEVEN_STATES  # (\"IA\",\"IL\",\"IN\",\"OH\",\"MO\",\"MN\",\"NE\")\n",
    "OUT_CSV   = \"data/processed/datas.csv\"\n"
   ]
  },
  {
   "cell_type": "markdown",
   "id": "72664acb",
   "metadata": {},
   "source": [
    "## 1) Load weather + yield features"
   ]
  },
  {
   "cell_type": "code",
   "execution_count": null,
   "id": "9bf09cca",
   "metadata": {},
   "outputs": [],
   "source": [
    "weather = load_weather_features(\n",
    "    states_file=\"data/processed/waob_features_states.csv\",\n",
    "    states=STATES, year_from=YEAR_FROM, year_to=YEAR_TO\n",
    ")\n",
    "print(\"Weather+Yield shape:\", weather.shape)\n",
    "weather.head(3)"
   ]
  },
  {
   "cell_type": "markdown",
   "id": "29fe0077",
   "metadata": {},
   "source": [
    "## 2) Build annual crop-condition features"
   ]
  },
  {
   "cell_type": "code",
   "execution_count": null,
   "id": "a2b76a6b",
   "metadata": {},
   "outputs": [],
   "source": [
    "# Weekly (ignored here), Annual crop-condition features\n",
    "_, cond_annual = get_soy_condition_features(YEAR_FROM, YEAR_TO, STATES)\n",
    "\n",
    "def normalize_keys(df):\n",
    "    out = df.copy()\n",
    "    out[\"state\"] = out[\"state\"].astype(str).str.strip().str.upper()\n",
    "    out[\"year\"] = pd.to_numeric(out[\"year\"], errors=\"coerce\").astype(\"Int64\")\n",
    "    return out\n",
    "\n",
    "cond_annual = normalize_keys(cond_annual).drop_duplicates(subset=[\"state\",\"year\"]).copy()\n",
    "print(\"Conditions shape:\", cond_annual.shape)\n",
    "cond_annual.head(3)"
   ]
  },
  {
   "cell_type": "markdown",
   "id": "1c9e5216",
   "metadata": {},
   "source": [
    "## 3) Merge on (state, year)"
   ]
  },
  {
   "cell_type": "code",
   "execution_count": null,
   "id": "1a900a11",
   "metadata": {},
   "outputs": [],
   "source": [
    "df = weather.merge(cond_annual, on=[\"state\",\"year\"], how=\"left\", indicator=True)\n",
    "print(df[\"_merge\"].value_counts())\n",
    "df = df.drop(columns=\"_merge\")\n",
    "\n",
    "# Safety: aggregate numerics if duplicates appear\n",
    "num_cols = df.select_dtypes(include=[np.number]).columns.tolist()\n",
    "df = (df.groupby([\"state\",\"year\"], as_index=False)\n",
    "        .agg({**{c: \"mean\" for c in num_cols},\n",
    "              **{c: \"first\" for c in df.columns if c not in num_cols and c not in [\"state\",\"year\"]}}))\n",
    "print(\"Merged df shape:\", df.shape)\n",
    "df.head(3)"
   ]
  },
  {
   "cell_type": "markdown",
   "id": "f7dbb534",
   "metadata": {},
   "source": [
    "## 4) Add US weighted row (weights = `harvest_ha`)"
   ]
  },
  {
   "cell_type": "code",
   "execution_count": null,
   "id": "2c0b5501",
   "metadata": {},
   "outputs": [],
   "source": [
    "def add_us_weighted_row(df_in: pd.DataFrame) -> pd.DataFrame:\n",
    "    if \"harvest_ha\" not in df_in.columns:\n",
    "        raise ValueError(\"harvest_ha is required to compute US weights.\")\n",
    "    num_cols = df_in.select_dtypes(include=[np.number]).columns.tolist()\n",
    "    num_cols = [c for c in num_cols if c not in [\"harvest_ha\",\"year\"]]\n",
    "    def wmean(g: pd.DataFrame) -> pd.Series:\n",
    "        w = g[\"harvest_ha\"].fillna(0.0).astype(float)\n",
    "        out = {c: (np.average(g[c].astype(float), weights=w) if w.sum() > 0 else np.nan)\n",
    "               for c in num_cols}\n",
    "        out[\"harvest_ha\"] = float(w.sum())\n",
    "        out[\"acres_harvested\"] = float(g.get(\"acres_harvested\", pd.Series([0]*len(g))).fillna(0).sum())\n",
    "        return pd.Series(out)\n",
    "    us = df_in.groupby(\"year\", as_index=True).apply(wmean).reset_index()\n",
    "    us[\"state\"] = \"US\"\n",
    "    return pd.concat([df_in, us], ignore_index=True, sort=False)\n",
    "\n",
    "df_out = add_us_weighted_row(df)\n",
    "print(\"Final rows (states + US):\", df_out.shape)\n",
    "df_out.tail(3)"
   ]
  },
  {
   "cell_type": "markdown",
   "id": "4bfe2b4e",
   "metadata": {},
   "source": [
    "## 5) Write `data/processed/datas.csv`"
   ]
  },
  {
   "cell_type": "code",
   "execution_count": null,
   "id": "667eb09a",
   "metadata": {},
   "outputs": [],
   "source": [
    "import os\n",
    "os.makedirs(\"data/processed\", exist_ok=True)\n",
    "df_out.to_csv(OUT_CSV, index=False)\n",
    "print(\"✅ Written:\", OUT_CSV)\n"
   ]
  }
 ],
 "metadata": {},
 "nbformat": 4,
 "nbformat_minor": 5
}