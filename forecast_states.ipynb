{
 "cells": [
  {
   "cell_type": "code",
   "execution_count": 14,
   "id": "7dc5de8b",
   "metadata": {},
   "outputs": [],
   "source": [
    "import pandas as pd\n",
    "import numpy as np\n",
    "import statsmodels.api as sm"
   ]
  },
  {
   "cell_type": "code",
   "execution_count": 15,
   "id": "e17c1fd8",
   "metadata": {},
   "outputs": [
    {
     "name": "stdout",
     "output_type": "stream",
     "text": [
      "\n",
      "=== Summary model (year ≤ 2012) ===\n",
      "                            OLS Regression Results                            \n",
      "==============================================================================\n",
      "Dep. Variable:          yield_bu_acre   R-squared:                       0.749\n",
      "Model:                            OLS   Adj. R-squared:                  0.684\n",
      "Method:                 Least Squares   F-statistic:                     11.37\n",
      "Date:                Wed, 08 Oct 2025   Prob (F-statistic):           3.51e-05\n",
      "Time:                        00:09:40   Log-Likelihood:                -61.255\n",
      "No. Observations:                  25   AIC:                             134.5\n",
      "Df Residuals:                      19   BIC:                             141.8\n",
      "Df Model:                           5                                         \n",
      "Covariance Type:            nonrobust                                         \n",
      "=================================================================================\n",
      "                    coef    std err          t      P>|t|      [0.025      0.975]\n",
      "---------------------------------------------------------------------------------\n",
      "const            41.4776     24.548      1.690      0.107      -9.901      92.857\n",
      "trend             0.4956      0.092      5.375      0.000       0.303       0.689\n",
      "jun_shortfall    -1.2288      0.626     -1.964      0.064      -2.538       0.081\n",
      "temp_JA          -0.2709      0.310     -0.873      0.394      -0.921       0.379\n",
      "prec_JA           7.1884      2.054      3.500      0.002       2.890      11.487\n",
      "prec_JA_sq       -0.6735      0.184     -3.657      0.002      -1.059      -0.288\n",
      "==============================================================================\n",
      "Omnibus:                        0.476   Durbin-Watson:                   1.130\n",
      "Prob(Omnibus):                  0.788   Jarque-Bera (JB):                0.292\n",
      "Skew:                          -0.251   Prob(JB):                        0.864\n",
      "Kurtosis:                       2.832   Cond. No.                     2.93e+03\n",
      "==============================================================================\n",
      "\n",
      "Notes:\n",
      "[1] Standard Errors assume that the covariance matrix of the errors is correctly specified.\n",
      "[2] The condition number is large, 2.93e+03. This might indicate that there are\n",
      "strong multicollinearity or other numerical problems.\n"
     ]
    }
   ],
   "source": [
    "TARGET_STATE = \"IA\"\n",
    "\n",
    "csv_path = \"data/processed/waob_features_states.csv\" # adapte le chemin si besoin\n",
    "df = pd.read_csv(csv_path)\n",
    "\n",
    "df = df[(df[\"year\"] >= 1988) & (df[\"year\"] <= 2012)]\n",
    "df = df[df[\"state\"] == TARGET_STATE]\n",
    "\n",
    "\n",
    "feature_cols = [\"trend\", \"jun_shortfall\", \"temp_JA\", \"prec_JA\", \"prec_JA_sq\"]\n",
    "target_col = \"yield_bu_acre\"\n",
    "\n",
    "keep = [target_col] + feature_cols\n",
    "df_model = df[keep].dropna().copy()\n",
    "\n",
    "y = df_model[target_col]\n",
    "X = df_model[feature_cols]\n",
    "\n",
    "X = sm.add_constant(X, has_constant=\"add\")  # force la constante\n",
    "model = sm.OLS(y, X).fit()\n",
    "\n",
    "print(\"\\n=== Summary model (year ≤ 2012) ===\")\n",
    "print(model.summary())\n",
    "\n",
    "metrics = {\n",
    "    \"n_obs\": int(model.nobs),\n",
    "    \"r2\": model.rsquared,\n",
    "    \"r2_adj\": model.rsquared_adj,\n",
    "    \"rmse\": np.sqrt(model.mse_resid),\n",
    "}\n",
    "#pd.Series(metrics).to_csv(\"waob_ols_metrics_upto_2013.csv\")"
   ]
  },
  {
   "cell_type": "code",
   "execution_count": 16,
   "id": "a098c6ce",
   "metadata": {},
   "outputs": [
    {
     "name": "stdout",
     "output_type": "stream",
     "text": [
      "   state  year  yield_bu_acre  trend  jun_shortfall  temp_JA  prec_JA  \\\n",
      "27    IA  2015           54.1     28            0.0    70.45    5.390   \n",
      "28    IA  2016           58.4     29            0.0    72.40    6.030   \n",
      "29    IA  2017           56.4     30            0.0    71.25    3.385   \n",
      "30    IA  2018           58.8     31            0.0    72.45    4.905   \n",
      "31    IA  2019           54.0     32            0.0    72.35    3.455   \n",
      "\n",
      "    prec_JA_sq  dummy_2003  acres_harvested    harvest_ha  \n",
      "27   29.052100           0         59200000  2.395739e+07  \n",
      "28   36.360900           0         57390000  2.322491e+07  \n",
      "29   11.458225           0         59690000  2.415569e+07  \n",
      "30   24.059025           0         59230000  2.396953e+07  \n",
      "31   11.937025           0         54670000  2.212416e+07  \n",
      "\n",
      "=== Summary model (year ≤ 2019) ===\n",
      "                            OLS Regression Results                            \n",
      "==============================================================================\n",
      "Dep. Variable:          yield_bu_acre   R-squared:                       0.867\n",
      "Model:                            OLS   Adj. R-squared:                  0.835\n",
      "Method:                 Least Squares   F-statistic:                     27.21\n",
      "Date:                Wed, 08 Oct 2025   Prob (F-statistic):           8.25e-10\n",
      "Time:                        00:09:40   Log-Likelihood:                -73.782\n",
      "No. Observations:                  32   AIC:                             161.6\n",
      "Df Residuals:                      25   BIC:                             171.8\n",
      "Df Model:                           6                                         \n",
      "Covariance Type:            nonrobust                                         \n",
      "=================================================================================\n",
      "                    coef    std err          t      P>|t|      [0.025      0.975]\n",
      "---------------------------------------------------------------------------------\n",
      "const            35.8812     18.933      1.895      0.070      -3.113      74.875\n",
      "trend             0.5134      0.054      9.442      0.000       0.401       0.625\n",
      "jun_shortfall    -1.3485      0.536     -2.517      0.019      -2.452      -0.245\n",
      "temp_JA          -0.1721      0.245     -0.702      0.489      -0.677       0.333\n",
      "prec_JA           6.6180      1.412      4.687      0.000       3.710       9.526\n",
      "prec_JA_sq       -0.6273      0.132     -4.738      0.000      -0.900      -0.355\n",
      "dummy_2003       -7.2033      2.892     -2.491      0.020     -13.160      -1.247\n",
      "==============================================================================\n",
      "Omnibus:                        0.113   Durbin-Watson:                   1.436\n",
      "Prob(Omnibus):                  0.945   Jarque-Bera (JB):                0.300\n",
      "Skew:                           0.102   Prob(JB):                        0.861\n",
      "Kurtosis:                       2.571   Cond. No.                     3.01e+03\n",
      "==============================================================================\n",
      "\n",
      "Notes:\n",
      "[1] Standard Errors assume that the covariance matrix of the errors is correctly specified.\n",
      "[2] The condition number is large, 3.01e+03. This might indicate that there are\n",
      "strong multicollinearity or other numerical problems.\n"
     ]
    }
   ],
   "source": [
    "\n",
    "df = pd.read_csv(csv_path)\n",
    "\n",
    "\n",
    "df = df[(df[\"year\"] >= 1988) & (df[\"year\"] <= 2019)]\n",
    "df = df[df[\"state\"] == TARGET_STATE]\n",
    "print(df.tail())\n",
    "\n",
    "feature_cols = [\"trend\", \"jun_shortfall\", \"temp_JA\", \"prec_JA\", \"prec_JA_sq\", \"dummy_2003\"]\n",
    "target_col = \"yield_bu_acre\"\n",
    "\n",
    "keep = [target_col] + feature_cols\n",
    "df_model = df[keep].dropna().copy()\n",
    "\n",
    "y = df_model[target_col]\n",
    "X = df_model[feature_cols]\n",
    "\n",
    "X = sm.add_constant(X, has_constant=\"add\")  # force la constante\n",
    "model = sm.OLS(y, X).fit()\n",
    "\n",
    "print(\"\\n=== Summary model (year ≤ 2019) ===\")\n",
    "print(model.summary())\n",
    "\n",
    "metrics = {\n",
    "    \"n_obs\": int(model.nobs),\n",
    "    \"r2\": model.rsquared,\n",
    "    \"r2_adj\": model.rsquared_adj,\n",
    "    \"rmse\": np.sqrt(model.mse_resid),\n",
    "}\n",
    "#pd.Series(metrics).to_csv(\"waob_ols_metrics_upto_2013.csv\")"
   ]
  },
  {
   "cell_type": "code",
   "execution_count": 17,
   "id": "66d46e41",
   "metadata": {},
   "outputs": [
    {
     "name": "stdout",
     "output_type": "stream",
     "text": [
      "\n",
      "fitted vs actual :\n",
      " year  yield_bu_acre    fitted\n",
      " 2010         51.600 51.583620\n",
      " 2011         51.100 50.075541\n",
      " 2012         42.800 43.594783\n",
      " 2013         44.875 45.873469\n",
      " 2014         51.000 54.873147\n",
      " 2015         54.100 55.577902\n",
      " 2016         58.400 55.406166\n",
      " 2017         56.400 54.235104\n",
      " 2018         58.800 56.696411\n",
      " 2019         54.000 55.235423\n"
     ]
    }
   ],
   "source": [
    "df_out = df.loc[df_model.index, [\"year\", target_col]].copy()\n",
    "df_out[\"fitted\"] = model.fittedvalues\n",
    "df_out.sort_values(\"year\", inplace=True)\n",
    "#df_out.to_csv(\"waob_fitted_vs_actual_upto_2013.csv\", index=False)\n",
    "\n",
    "print(\"\\nfitted vs actual :\")\n",
    "print(df_out.tail(10).to_string(index=False))"
   ]
  },
  {
   "cell_type": "code",
   "execution_count": 18,
   "id": "40aeb81e",
   "metadata": {},
   "outputs": [
    {
     "ename": "SyntaxError",
     "evalue": "f-string: unmatched '[' (3754679799.py, line 13)",
     "output_type": "error",
     "traceback": [
      "  \u001b[36mCell\u001b[39m\u001b[36m \u001b[39m\u001b[32mIn[18]\u001b[39m\u001b[32m, line 13\u001b[39m\n\u001b[31m    \u001b[39m\u001b[31mprint(f\"\\nForecast Y={YEAR_TO_PRED} with find coefs (2020 weather) : {yhat20_ols:.2f} bu/ac\\n vs {row20[\"yield_bu_acre\"]:.2f}\")\u001b[39m\n                                                                                                             ^\n\u001b[31mSyntaxError\u001b[39m\u001b[31m:\u001b[39m f-string: unmatched '['\n"
     ]
    }
   ],
   "source": [
    "\n",
    "YEAR_TO_PRED = 2020\n",
    "Xcols = [\"trend\", \"jun_shortfall\", \"temp_JA\", \"prec_JA\", \"prec_JA_sq\", \"dummy_2003\"]\n",
    "\n",
    "df = pd.read_csv(csv_path)\n",
    "df = df[df[\"state\"] == TARGET_STATE]\n",
    "\n",
    "row20 = df[df[\"year\"] == YEAR_TO_PRED]\n",
    "\n",
    "if row20.empty:\n",
    "    raise ValueError(f\"Aucune ligne {YEAR_TO_PRED} dans {csv_path}.\")\n",
    "X20 = sm.add_constant(row20[Xcols], has_constant=\"add\")\n",
    "yhat20_ols = float(model.predict(X20))\n",
    "print(f\"\\nForecast Y={YEAR_TO_PRED} with find coefs (2020 weather) : {yhat20_ols:.2f} bu/ac\\n vs {row20[\"yield_bu_acre\"]:.2f}\")\n",
    "\n",
    "\n",
    "\n"
   ]
  }
 ],
 "metadata": {
  "kernelspec": {
   "display_name": "waob-m1",
   "language": "python",
   "name": "python3"
  },
  "language_info": {
   "codemirror_mode": {
    "name": "ipython",
    "version": 3
   },
   "file_extension": ".py",
   "mimetype": "text/x-python",
   "name": "python",
   "nbconvert_exporter": "python",
   "pygments_lexer": "ipython3",
   "version": "3.11.13"
  }
 },
 "nbformat": 4,
 "nbformat_minor": 5
}
